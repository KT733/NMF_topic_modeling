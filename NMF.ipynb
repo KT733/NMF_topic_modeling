{
 "cells": [
  {
   "cell_type": "markdown",
   "id": "4829c5bf",
   "metadata": {},
   "source": [
    "# Topic Modeling Using NMF"
   ]
  },
  {
   "cell_type": "code",
   "execution_count": 2,
   "id": "5f25ff4e",
   "metadata": {},
   "outputs": [],
   "source": [
    "import numpy as np\n",
    "import pandas as pd\n",
    "from __future__ import print_function\n",
    "from time import time\n",
    "from sklearn.feature_extraction.text import TfidfVectorizer\n",
    "from sklearn.decomposition import NMF\n",
    "from sklearn.datasets import fetch_20newsgroups"
   ]
  },
  {
   "cell_type": "code",
   "execution_count": 3,
   "id": "6908a9ae",
   "metadata": {},
   "outputs": [],
   "source": [
    "n_samples = 2000\n",
    "n_features = 1000\n",
    "n_topics = 10\n",
    "n_top_words = 20"
   ]
  },
  {
   "cell_type": "code",
   "execution_count": 4,
   "id": "e038a93c",
   "metadata": {},
   "outputs": [
    {
     "name": "stdout",
     "output_type": "stream",
     "text": [
      "Loading dataset and extracting TF-IDF features...\n"
     ]
    }
   ],
   "source": [
    "t0 = time()\n",
    "print(\"Loading dataset and extracting TF-IDF features...\")\n",
    "dataset = fetch_20newsgroups(shuffle=True, random_state=1,\n",
    "                             remove=('headers', 'footers', 'quotes'))"
   ]
  },
  {
   "cell_type": "code",
   "execution_count": 10,
   "id": "cda83618",
   "metadata": {},
   "outputs": [
    {
     "name": "stdout",
     "output_type": "stream",
     "text": [
      "(2000, 1000)\n",
      "done in 96.598s.\n"
     ]
    }
   ],
   "source": [
    "vectorizer = TfidfVectorizer(max_df=0.95, min_df=2, max_features=n_features,\n",
    "                             stop_words='english')\n",
    "tfidf = vectorizer.fit_transform(dataset.data[:n_samples])\n",
    "\n",
    "print(tfidf.shape)\n",
    "print(\"done in %0.3fs.\" % (time() - t0))"
   ]
  },
  {
   "cell_type": "code",
   "execution_count": 6,
   "id": "e53f0940",
   "metadata": {},
   "outputs": [
    {
     "name": "stdout",
     "output_type": "stream",
     "text": [
      "Fitting the NMF model with n_samples=2000 and n_features=1000...\n",
      "done in 8.720s.\n"
     ]
    }
   ],
   "source": [
    "# Fit the NMF model\n",
    "print(\"Fitting the NMF model with n_samples=%d and n_features=%d...\"\n",
    "      % (n_samples, n_features))\n",
    "nmf = NMF(n_components=n_topics, random_state=1).fit(tfidf)\n",
    "print(\"done in %0.3fs.\" % (time() - t0))"
   ]
  },
  {
   "cell_type": "code",
   "execution_count": 12,
   "id": "6f1b887f",
   "metadata": {},
   "outputs": [],
   "source": [
    "feature_names = vectorizer.get_feature_names_out()"
   ]
  },
  {
   "cell_type": "code",
   "execution_count": 13,
   "id": "b28b5168",
   "metadata": {},
   "outputs": [
    {
     "name": "stdout",
     "output_type": "stream",
     "text": [
      "Topic #0:\n",
      "just people don think like know say did make really time way ve right sure good going want got wrong\n",
      "\n",
      "Topic #1:\n",
      "windows use using window dos program application os drivers software help screen running ms code motif pc work ve mode\n",
      "\n",
      "Topic #2:\n",
      "god jesus bible faith does christian christians christ believe life heaven sin lord church religion true mary human belief love\n",
      "\n",
      "Topic #3:\n",
      "thanks know does mail advance hi info interested anybody email like looking help appreciated card information list send need post\n",
      "\n",
      "Topic #4:\n",
      "car new 00 bike 10 price space power cars sale good year engine years used cost miles condition great 000\n",
      "\n",
      "Topic #5:\n",
      "edu soon com send university internet ftp mail mit information article cc pub address hope program email mac blood contact\n",
      "\n",
      "Topic #6:\n",
      "file problem files format ftp win space sound read pub available program site help version image book copy save memory\n",
      "\n",
      "Topic #7:\n",
      "game team year games win play season players nhl runs toronto ll flyers division goal hockey player won defense teams\n",
      "\n",
      "Topic #8:\n",
      "drive drives hard disk card software floppy mac pc apple power computer scsi controller memory problem board mb monitor cable\n",
      "\n",
      "Topic #9:\n",
      "key chip government clipper encryption keys use public law enforcement secure phone data nsa security used clinton communications going encrypted\n",
      "\n"
     ]
    }
   ],
   "source": [
    "for topic_idx, topic in enumerate(nmf.components_):\n",
    "    print(\"Topic #%d:\" % topic_idx)\n",
    "    print(\" \".join([feature_names[i]\n",
    "                    for i in topic.argsort()[:-n_top_words - 1:-1]]))\n",
    "    print()"
   ]
  },
  {
   "cell_type": "markdown",
   "id": "4fd2b6ff",
   "metadata": {},
   "source": [
    "# Building NMF from Scratch"
   ]
  },
  {
   "cell_type": "code",
   "execution_count": 14,
   "id": "67b2efbf",
   "metadata": {},
   "outputs": [
    {
     "name": "stdout",
     "output_type": "stream",
     "text": [
      "(array([[0.77089507, 0.78488755, 0.24218167, 0.6263597 ],\n",
      "       [0.617991  , 0.06527078, 1.00185752, 0.34611508],\n",
      "       [0.70174678, 0.17367148, 0.65180909, 0.65116993]]), array([[2.28595137, 0.10370124, 1.1785538 ],\n",
      "       [1.69070024, 2.55975804, 2.13171273],\n",
      "       [2.78917804, 3.64076982, 3.22132596],\n",
      "       [1.97214778, 3.23968354, 2.61536308]]), array([[4.99999989, 4.99999989, 5.00000022],\n",
      "       [4.99999978, 4.99999979, 5.00000043],\n",
      "       [5.00000033, 5.00000032, 4.99999935]]))\n"
     ]
    }
   ],
   "source": [
    "def nmf(X, k, max_iterations=100, tol=1e-6):\n",
    "    # X: Input matrix of shape (n, m)\n",
    "    # k: Number of components/factors\n",
    "    # max_iterations: Maximum number of iterations\n",
    "    # tol: Tolerance value for convergence\n",
    "    \n",
    "    n, m = X.shape\n",
    "    \n",
    "    # Initialize random non-negative matrices W and H\n",
    "    W = np.random.rand(n, k)\n",
    "    H = np.random.rand(k, m)\n",
    "    \n",
    "    # Iterative update of W and H\n",
    "    for iteration in range(max_iterations):\n",
    "        # Update H\n",
    "        numerator = W.T@X\n",
    "        denominator = (W.T@W)@H\n",
    "        denominator = np.where(denominator > 0, denominator, np.finfo(float).eps) \n",
    "        H *= numerator / denominator\n",
    "        \n",
    "        # Update W\n",
    "        numerator = X@H.T\n",
    "        denominator = (W@H)@H.T\n",
    "        denominator = np.where(denominator > 0, denominator, np.finfo(float).eps) \n",
    "        W *= numerator / denominator\n",
    "        \n",
    "        # Calculate reconstruction error\n",
    "        reconstruction_error = np.linalg.norm(X - np.dot(W, H))\n",
    "        \n",
    "        # Check for convergence\n",
    "        if reconstruction_error < tol:\n",
    "            break\n",
    "    \n",
    "    return W, H, W@H\n",
    "    \n",
    "\n",
    "#this is a test\n",
    "print(nmf(np.array([[5,5,5],[5,5,5],[5,5,5]]),4,1000,1e-6))"
   ]
  },
  {
   "cell_type": "code",
   "execution_count": 15,
   "id": "72d36822",
   "metadata": {},
   "outputs": [],
   "source": [
    "W, H, X_approx = nmf(tfidf, 10, max_iterations=100, tol=1e-6)"
   ]
  },
  {
   "cell_type": "code",
   "execution_count": 17,
   "id": "3c1d93b2",
   "metadata": {},
   "outputs": [],
   "source": [
    "feature_names = vectorizer.get_feature_names_out()"
   ]
  },
  {
   "cell_type": "code",
   "execution_count": 19,
   "id": "6a5094fc",
   "metadata": {},
   "outputs": [
    {
     "name": "stdout",
     "output_type": "stream",
     "text": [
      "Topic #0:\n",
      "like ve don got ll know bike sounds didn thing good say right time look way little doing maybe looks\n",
      "\n",
      "Topic #1:\n",
      "god jesus bible faith does christian christians christ believe life heaven sin lord church mary religion love human atheism belief\n",
      "\n",
      "Topic #2:\n",
      "thanks know does mail advance hi info interested anybody email looking help card appreciated information list send video need reply\n",
      "\n",
      "Topic #3:\n",
      "just thought don think sure wrong really heard want wondering listen bad doesn book mean does read way argument work\n",
      "\n",
      "Topic #4:\n",
      "people think don did law government israel make rights time said say case state going evidence know point gun mr\n",
      "\n",
      "Topic #5:\n",
      "game team year games win play season players nhl toronto division runs flyers goal think player hockey won teams better\n",
      "\n",
      "Topic #6:\n",
      "drive car new 00 power 10 price sale drives software hard card speed computer disk used 16 condition old high\n",
      "\n",
      "Topic #7:\n",
      "edu soon com send university internet ftp mail mit information article pub cc hope contact email address program blood remember\n",
      "\n",
      "Topic #8:\n",
      "windows file dos use using problem files program window help os application running drivers pc version screen available work ftp\n",
      "\n",
      "Topic #9:\n",
      "key chip clipper keys encryption government use public phone secure enforcement data nsa doesn communications security encrypted used standard clinton\n",
      "\n"
     ]
    }
   ],
   "source": [
    "for topic_idx, topic in enumerate(H):\n",
    "    print(\"Topic #%d:\" % topic_idx)\n",
    "    print(\" \".join([feature_names[i]\n",
    "                    for i in topic.argsort()[:-n_top_words - 1:-1]]))\n",
    "    print()"
   ]
  }
 ],
 "metadata": {
  "kernelspec": {
   "display_name": "Python 3 (ipykernel)",
   "language": "python",
   "name": "python3"
  },
  "language_info": {
   "codemirror_mode": {
    "name": "ipython",
    "version": 3
   },
   "file_extension": ".py",
   "mimetype": "text/x-python",
   "name": "python",
   "nbconvert_exporter": "python",
   "pygments_lexer": "ipython3",
   "version": "3.9.7"
  }
 },
 "nbformat": 4,
 "nbformat_minor": 5
}
